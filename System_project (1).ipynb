{
 "cells": [
  {
   "cell_type": "markdown",
   "id": "5b7160a8-7797-4890-ab02-5c052dd7f256",
   "metadata": {},
   "source": [
    "# First attempt to create this system \n"
   ]
  },
  {
   "cell_type": "markdown",
   "id": "5639de24-4bf4-4219-9ed8-62f7e3c8932c",
   "metadata": {},
   "source": [
    "###### This project is a system that allows users to delegate controlled access to their payment cards without physically sharing the card or sensitive details. This could be useful for people who want to let others make purchases on their behalf but with restrictions.                                                                                                                                                               Time 12:49 21/September/2024"
   ]
  },
  {
   "cell_type": "markdown",
   "id": "335ebbb5-44ea-4e2d-b36c-45e342464ad9",
   "metadata": {},
   "source": [
    "#### key features of the system"
   ]
  },
  {
   "cell_type": "markdown",
   "id": "fc8ed153-ad20-4742-983b-8481a4725167",
   "metadata": {},
   "source": [
    "##### 1. User authentication and authorization\n",
    "##### 2. Create Proxy card\n",
    "##### 3. Transaction monitoring\n",
    "##### 4. Fraud Prevention\n",
    "##### 5. Security Measures\n"
   ]
  },
  {
   "cell_type": "markdown",
   "id": "08689872-ac96-4839-aec2-e45e7cc6c64e",
   "metadata": {},
   "source": [
    "## Virtual Card Creation and Management "
   ]
  },
  {
   "cell_type": "code",
   "execution_count": 9,
   "id": "014e2fd3-985b-4967-82f1-238471f74002",
   "metadata": {},
   "outputs": [],
   "source": [
    "import uuid\n",
    "from datetime import datetime, timedelta"
   ]
  },
  {
   "cell_type": "code",
   "execution_count": 51,
   "id": "12331714-8d31-432d-9bf3-694a819b6aa5",
   "metadata": {},
   "outputs": [],
   "source": [
    "# Class of virtual Cards\n",
    "class VirtualCard:\n",
    "    def __init__(self, owner, card_limit, expiry_days):\n",
    "        self.owner = owner\n",
    "        self.card_number = str(uuid.uuid4())[:16]  # Generate a unique card number\n",
    "        self.balance = 0  # Balance starts at 0\n",
    "        self.card_limit = card_limit\n",
    "        self.expiry_date = datetime.now() + timedelta(days=expiry_days)\n",
    "        self.is_active = True\n",
    "\n",
    "    def add_balance(self, amount):\n",
    "        self.balance += amount\n",
    "        print(f\"R{amount} added to the card. New balance: R{self.balance}\")\n",
    "\n",
    "    def make_purchase(self, amount):\n",
    "        if not self.is_active or datetime.now() > self.expiry_date:\n",
    "            print(\"Transaction denied. This card has expired or is inactive.\")\n",
    "            return False\n",
    "\n",
    "        if self.balance + amount > self.card_limit:\n",
    "            print(f\"Transaction denied. Amount exceeds limit of R{self.card_limit}.\")\n",
    "            return False\n",
    "\n",
    "        self.balance += amount\n",
    "        print(f\"Purchase successful! Amount: R{amount}. New balance: R{self.balance}\")\n",
    "        return True\n",
    "\n",
    "    def deactivate(self):\n",
    "        self.is_active = False\n",
    "        print(f\"Card {self.card_number} deactivated.\")\n"
   ]
  },
  {
   "cell_type": "markdown",
   "id": "156bff4a-6a6f-42ea-9e5d-723d4a68eeab",
   "metadata": {},
   "source": [
    "### Example \n",
    "#### 1. Create a virtual card with a limit of R1000, valid for 7 days"
   ]
  },
  {
   "cell_type": "code",
   "execution_count": 17,
   "id": "3ecce49c-adc5-437b-b857-b60970a4d6d1",
   "metadata": {},
   "outputs": [],
   "source": [
    "if __name__ == \"Sinethemba\":\n",
    "\n",
    "    virtual_card = VirtualCard(owner=\"Sinethemba\", card_limit=1000, expiry_days=7)\n",
    "    print(f\"New virtual card created: {virtual_card.card_number}\")\n",
    "\n",
    "    # Add balance and make purchases\n",
    "    virtual_card.add_balance()\n",
    "    virtual_card.make_purchase()\n",
    "    virtual_card.make_purchase()  \n",
    "\n",
    "    # Deactivate the card after usage\n",
    "    virtual_card.deactivate()"
   ]
  },
  {
   "cell_type": "markdown",
   "id": "5a6b0997-a225-465c-ac34-054fcca0f79e",
   "metadata": {},
   "source": [
    "## User Authentication "
   ]
  },
  {
   "cell_type": "code",
   "execution_count": null,
   "id": "13d3cf7a-1c64-4978-8d90-0ccbfd01b53c",
   "metadata": {},
   "outputs": [],
   "source": [
    "# database for users\n",
    "users_db = {\n",
    "    \"Sinethemba\": {\"password\": \"Sinethemba109\", \"is_authenticated\": False},\n",
    "    \"Surprise\": {\"password\": \"securepass\", \"is_authenticated\": False}\n",
    "}\n",
    "\n",
    "def authenticate_user(username, password):\n",
    "    if username in users_db and users_db[username][\"password\"] == password:\n",
    "        users_db[username][\"is_authenticated\"] = True\n",
    "        print(f\"User {username} authenticated successfully!\")\n",
    "        return True\n",
    "    else:\n",
    "        print(\"Authentication failed. Check username or password.\")\n",
    "        return False\n",
    "\n",
    "# Example \n",
    "if __name__ == \"__main__\":\n",
    "    username = input(\"Enter username: \")\n",
    "    password = input(\"Enter password: \")\n",
    "    if authenticate_user(username, password):\n",
    "        print(f\"{username} logged in.\")\n"
   ]
  },
  {
   "cell_type": "markdown",
   "id": "6f36ad09-40d5-4c3e-a4ae-cf63ea3c8d43",
   "metadata": {},
   "source": [
    "### TRANSACTION PROCESSING & LIMIT ENFORCEMENT"
   ]
  },
  {
   "cell_type": "code",
   "execution_count": 27,
   "id": "9425effc-abd3-4531-bf8a-f17d01eae1d9",
   "metadata": {},
   "outputs": [],
   "source": [
    "class VirtualCardWithOverage(VirtualCard):\n",
    "    def __init__(self, owner, card_limit, expiry_days, overage_limit=0.05):\n",
    "        super().__init__(owner, card_limit, expiry_days)\n",
    "        self.overage_limit = overage_limit  # 5% overage by default\n",
    "\n",
    "    def make_purchase(self, amount):\n",
    "        if not self.is_active or datetime.now() > self.expiry_date:\n",
    "            print(\"Transaction denied. This card has expired or is inactive.\")\n",
    "            return False\n",
    "\n",
    "        max_allowed = self.card_limit + (self.card_limit * self.overage_limit)\n",
    "        \n",
    "        if self.balance + amount > max_allowed:\n",
    "            print(f\"Transaction denied. Amount exceeds allowable overage of R{max_allowed}.\")\n",
    "            return False\n",
    "\n",
    "        self.balance += amount\n",
    "        print(f\"Purchase successful! Amount: R{amount}. New balance: R{self.balance}\")\n",
    "        return True\n",
    "\n",
    "# Example\n",
    "if __name__ == \"Sinethemba\":\n",
    "    virtual_card = VirtualCardWithOverage(owner=\"Sinethemba\", card_limit=1000, expiry_days=7, overage_limit=0.1)\n",
    "    print(f\"New virtual card created: {virtual_card.card_number}\")\n",
    "    \n",
    "    virtual_card.add_balance()\n",
    "    virtual_card.make_purchase()  \n",
    "    virtual_card.make_purchase()  \n"
   ]
  },
  {
   "cell_type": "markdown",
   "id": "7d71f449-8bfb-4810-b761-a282ed040376",
   "metadata": {},
   "source": [
    "### FRAUD DETECTION"
   ]
  },
  {
   "cell_type": "code",
   "execution_count": 43,
   "id": "f9553832-6fb2-437c-9942-6127c1358615",
   "metadata": {},
   "outputs": [
    {
     "name": "stdout",
     "output_type": "stream",
     "text": [
      "Transaction flagged for potential fraud.\n"
     ]
    }
   ],
   "source": [
    "import random #It can be insected in the first cell\n",
    "\n",
    "class FraudDetection:\n",
    "    def __init__(self):\n",
    "        self.user_transactions = {}\n",
    "\n",
    "    def log_transaction(self, user, amount):\n",
    "        if user not in self.user_transactions:\n",
    "            self.user_transactions[user] = []\n",
    "        self.user_transactions[user].append(amount)\n",
    "\n",
    "    def check_for_fraud(self, user, amount):\n",
    "        # Example: flag transactions over R1000 or too frequent\n",
    "        if amount > 1000:\n",
    "            return True\n",
    "        if len(self.user_transactions.get(user, [])) > 5:  # More than 5 transactions in session\n",
    "            return True\n",
    "        return False\n",
    "\n",
    "# Example \n",
    "fraud_detection = FraudDetection()\n",
    "amount = 1000 #this amount should be >1000\n",
    "if fraud_detection.check_for_fraud(\"Sinethemba\", amount):\n",
    "    print(\"Transaction flagged for potential fraud.\")\n",
    "else:\n",
    "    virtual_card.make_purchase(amount)\n",
    "    fraud_detection.log_transaction(\"Sinethemba\", amount)\n"
   ]
  },
  {
   "cell_type": "markdown",
   "id": "ed4634bc-bbcc-4424-9993-471f2349eb5f",
   "metadata": {},
   "source": [
    "### COMPLETE EXAMPLE FLOW"
   ]
  },
  {
   "cell_type": "code",
   "execution_count": 54,
   "id": "5683953e-efe3-4f5c-b076-17ddc4b3b184",
   "metadata": {},
   "outputs": [],
   "source": [
    "if __name__ == \"Sinethemba\":\n",
    "    # Authenticate primary user\n",
    "    if authenticate_user(\"Sinethemba\", \"Sinethemba109\"):\n",
    "        \n",
    "        # Create a virtual card for a secondary user\n",
    "        virtual_card = VirtualCardWithOverage(owner=\"Sinethemba\", card_limit=500, expiry_days=7, overage_limit=0.1)\n",
    "        print(f\"Virtual card created for Sinethemba: {virtual_card.card_number}\")\n",
    "        \n",
    "        # Make transactions\n",
    "        virtual_card.add_balance(200)\n",
    "        amount = 450\n",
    "        if fraud_detection.check_for_fraud(\"Sinethemba\", amount):\n",
    "            print(\"Transaction flagged for potential fraud.\")\n",
    "        else:\n",
    "            success = virtual_card.make_purchase(amount)\n",
    "            fraud_detection.log_transaction(\"Sinethemba\", amount)\n",
    "            send_transaction_notification(\"Sinethemba\", amount, virtual_card.card_number, success)\n"
   ]
  },
  {
   "cell_type": "markdown",
   "id": "c7367f7e-cf79-4ba3-af4b-3f6e019a2922",
   "metadata": {},
   "source": [
    "##### time: 13:51 27 Septemper 2024 ........To anyone viewing this, I stand to be corrected, I also used https://stackoverflow.com for help. I used google too for other codes.    \n",
    "\n",
    "###### my Goal is to create a system that allows anyone to share their bank card without physically sharing their cards and information nor sending money into someones account, and the person sharing can be responsible to control the limit using their phone.\n",
    "\n",
    "###### let me put this into an example: If you have a child who wants to buy goodies like snacks but you do not want to make transfers nor to give your card, you can just use the system to link your card to their cards using any bank, In this way, they will continue using your money you made available for them to use with set limits, but using their bank cards or their phones to pay like Google pay and Apple pay.\n",
    "\n",
    "###### My next project will be how to link this using different banks, and how to do it without sharing your information."
   ]
  },
  {
   "cell_type": "markdown",
   "id": "6eb8fa3c-dfe5-47c3-8e72-01f4ce36fbb5",
   "metadata": {},
   "source": [
    "## Thank you!!!!"
   ]
  },
  {
   "cell_type": "code",
   "execution_count": null,
   "id": "85926b2a-4dd4-4073-8496-5811f334b634",
   "metadata": {},
   "outputs": [],
   "source": []
  }
 ],
 "metadata": {
  "kernelspec": {
   "display_name": "Python 3 (ipykernel)",
   "language": "python",
   "name": "python3"
  },
  "language_info": {
   "codemirror_mode": {
    "name": "ipython",
    "version": 3
   },
   "file_extension": ".py",
   "mimetype": "text/x-python",
   "name": "python",
   "nbconvert_exporter": "python",
   "pygments_lexer": "ipython3",
   "version": "3.12.3"
  }
 },
 "nbformat": 4,
 "nbformat_minor": 5
}
